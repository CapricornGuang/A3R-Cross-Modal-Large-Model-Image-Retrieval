{
 "cells": [
  {
   "attachments": {},
   "cell_type": "markdown",
   "metadata": {},
   "source": [
    "# 使用最优的模型获得最佳的结果\n",
    "- 将最佳模型的epoch5.pt文件下载到本地，替换--pt_path参数即可\n",
    "- 该模型在加载到显存后约10G"
   ]
  },
  {
   "cell_type": "code",
   "execution_count": null,
   "metadata": {
    "vscode": {
     "languageId": "plaintext"
    }
   },
   "outputs": [],
   "source": [
    "!export CUDA_VISIBLE_DEVICES=0; python src/infer/open_clip_infer.py --model_name ViT-bigG-14 --pt_path /data1/code/yyg/image_retrival/yyg/open_clip_G_real/open_clip-G/open_clip/logs/epoch_5.pt --image_root data/datasets/test/test_images/ --text_path data/datasets/test/test_person_text.txt --run_name open_clip_person_infer --text_steps 2000 --image_batch 2000 --topk 10"
   ]
  },
  {
   "cell_type": "code",
   "execution_count": null,
   "metadata": {
    "vscode": {
     "languageId": "plaintext"
    }
   },
   "outputs": [],
   "source": [
    "!export CUDA_VISIBLE_DEVICES=1; python src/infer/open_clip_infer.py --model_name ViT-bigG-14 --pt_path /data1/code/yyg/image_retrival/yyg/open_clip_G_real/open_clip-G/open_clip/logs/epoch_5.pt --image_root data/datasets/test/test_images/ --text_path data/datasets/test/test_car_text.txt --run_name open_clip_car_infer --text_steps 2000 --image_batch 2000 --topk 10"
   ]
  },
  {
   "cell_type": "code",
   "execution_count": null,
   "metadata": {
    "vscode": {
     "languageId": "plaintext"
    }
   },
   "outputs": [],
   "source": [
    "!python src/infer/merge_json.py"
   ]
  }
 ],
 "metadata": {
  "language_info": {
   "name": "python"
  },
  "orig_nbformat": 4
 },
 "nbformat": 4,
 "nbformat_minor": 2
}
