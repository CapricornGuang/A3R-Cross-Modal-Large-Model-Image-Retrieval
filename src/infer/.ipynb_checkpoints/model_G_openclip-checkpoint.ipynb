{
 "cells": [
  {
   "cell_type": "code",
   "execution_count": null,
   "id": "ec0ae525",
   "metadata": {},
   "outputs": [],
   "source": [
    "# 导入CLIP\n",
    "import open_clip\n",
    "import torch\n",
    "# 使用 PyTorch 的工具方法来计算随机加权平均\n",
    "from torch.optim.swa_utils import AveragedModel\n",
    "\n",
    "device = \"cuda:2\" if torch.cuda.is_available() else \"cpu\""
   ]
  },
  {
   "cell_type": "code",
   "execution_count": null,
   "id": "d14864ea",
   "metadata": {},
   "outputs": [],
   "source": [
    "open_clip.list_pretrain()"
   ]
  },
  {
   "cell_type": "code",
   "execution_count": null,
   "id": "3f781a0c",
   "metadata": {},
   "outputs": [],
   "source": [
    "# 加载模型"
   ]
  },
  {
   "cell_type": "code",
   "execution_count": 14,
   "id": "27e4a299",
   "metadata": {},
   "outputs": [],
   "source": [
    "pt_path_1 = \"/home/yyg/image_retrival/yyg/open_clip/logs/2023_04_25-15_36_55-model_ViT-L-14-lr_1e-06-b_25-j_8-p_amp/checkpoints/bst_epoch_25.pt\"\n",
    "\n",
    "pt_path_2 =\"/home/yyg/image_retrival/yyg/open_clip/logs/2023_04_25-15_36_55-model_ViT-L-14-lr_1e-06-b_25-j_8-p_amp/checkpoints/epoch_15.pt\" \n",
    "\n",
    "pt_path_3 =\"/home/yyg/image_retrival/yyg/open_clip/logs/2023_04_25-15_36_55-model_ViT-L-14-lr_1e-06-b_25-j_8-p_amp/checkpoints/epoch_20.pt\" \n",
    "\n",
    "pt_path_4 =\"/home/yyg/image_retrival/yyg/open_clip/logs/2023_04_25-15_36_55-model_ViT-L-14-lr_1e-06-b_25-j_8-p_amp/checkpoints/epoch_25.pt\" "
   ]
  },
  {
   "cell_type": "code",
   "execution_count": 15,
   "id": "5da04aea",
   "metadata": {},
   "outputs": [],
   "source": [
    "model_1, _, image_preprocess = open_clip.create_model_and_transforms('ViT-L-14', \n",
    "                                                                     pretrained = pt_path_1, \n",
    "                                                                     device=device)\n",
    "model_2, _, image_preprocess = open_clip.create_model_and_transforms('ViT-L-14', \n",
    "                                                                     pretrained = pt_path_2, \n",
    "                                                                     device=device)\n",
    "\n",
    "model_3, _, image_preprocess = open_clip.create_model_and_transforms('ViT-L-14', \n",
    "                                                                     pretrained = pt_path_2, \n",
    "                                                                     device=device)\n",
    "\n",
    "model_4, _, image_preprocess = open_clip.create_model_and_transforms('ViT-L-14', \n",
    "                                                                     pretrained = pt_path_2, \n",
    "                                                                     device=device)\n",
    "\n",
    "model_5, _, image_preprocess = open_clip.create_model_and_transforms('ViT-L-14', \n",
    "                                                                     pretrained = 'openai', \n",
    "                                                                     device=device)"
   ]
  },
  {
   "cell_type": "code",
   "execution_count": 16,
   "id": "27e3758a",
   "metadata": {},
   "outputs": [],
   "source": [
    "models = [model_1, model_2,model_3 ,model_4, model_5]"
   ]
  },
  {
   "cell_type": "code",
   "execution_count": 17,
   "id": "2bc3f676",
   "metadata": {},
   "outputs": [],
   "source": [
    "4# 定义目标模型\n",
    "target_model = model_1\n",
    "\n",
    "# 创建一个 AveragedModel 对象，它将包装目标模型并维护一个平均参数向量\n",
    "swa_model = AveragedModel(target_model)"
   ]
  },
  {
   "cell_type": "code",
   "execution_count": 18,
   "id": "f5435142",
   "metadata": {},
   "outputs": [],
   "source": [
    "# 对每个输入模型，更新 swa_model 的平均参数向量\n",
    "for model in models:\n",
    "    swa_model.update_parameters(model)\n",
    "\n",
    "# 将 swa_model 的平均参数向量复制到目标模型中\n",
    "# swa_model.swap_parameters(target_model)\n",
    "target_model = swa_model.module"
   ]
  },
  {
   "cell_type": "code",
   "execution_count": 8,
   "id": "be5cf006",
   "metadata": {},
   "outputs": [],
   "source": []
  },
  {
   "cell_type": "code",
   "execution_count": 19,
   "id": "94371ce4",
   "metadata": {},
   "outputs": [],
   "source": [
    "import os"
   ]
  },
  {
   "cell_type": "code",
   "execution_count": 20,
   "id": "086e5edf",
   "metadata": {},
   "outputs": [],
   "source": [
    "model_path = '/home/yyg/image_retrival/yyg/open_clip/logs/2023_04_25-15_36_55-model_ViT-L-14-lr_1e-06-b_25-j_8-p_amp/checkpoints/target_model_with_openai.pt'"
   ]
  },
  {
   "cell_type": "code",
   "execution_count": 21,
   "id": "0a9c428b",
   "metadata": {},
   "outputs": [],
   "source": [
    "checkpoint_dict = {\n",
    "        \"epoch\": 10,\n",
    "        \"name\": \"soup\",\n",
    "        \"state_dict\": target_model.state_dict(),\n",
    "        \"optimizer\": None#optimizer.state_dict(),\n",
    "    }\n",
    "\n",
    "torch.save(\n",
    "        checkpoint_dict,model_path\n",
    "    )"
   ]
  },
  {
   "cell_type": "code",
   "execution_count": 22,
   "id": "bb33f230",
   "metadata": {},
   "outputs": [],
   "source": [
    "# 保存 target_model 为一个 .pt 文件\n",
    "# torch.save(target_model, model_path)"
   ]
  },
  {
   "cell_type": "code",
   "execution_count": null,
   "id": "da3b0924",
   "metadata": {},
   "outputs": [],
   "source": []
  }
 ],
 "metadata": {
  "kernelspec": {
   "display_name": "Python 3 (ipykernel)",
   "language": "python",
   "name": "python3"
  },
  "language_info": {
   "codemirror_mode": {
    "name": "ipython",
    "version": 3
   },
   "file_extension": ".py",
   "mimetype": "text/x-python",
   "name": "python",
   "nbconvert_exporter": "python",
   "pygments_lexer": "ipython3",
   "version": "3.7.13"
  }
 },
 "nbformat": 4,
 "nbformat_minor": 5
}
