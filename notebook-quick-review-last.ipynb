{
 "cells": [
  {
   "cell_type": "markdown",
   "id": "ec201aa4",
   "metadata": {},
   "source": [
    "# 使用最优的模型获得最后一次提交的结果（Last Version）\n",
    "- 将最佳模型的epoch5.pt文件下载到本地，替换--pt_path参数即可\n",
    "- 该模型在加载到显存后约10G"
   ]
  },
  {
   "cell_type": "code",
   "execution_count": 1,
   "id": "708893d7",
   "metadata": {},
   "outputs": [
    {
     "name": "stdout",
     "output_type": "stream",
     "text": [
      "model loading...\n",
      "Compose(\n",
      "    Lambda()\n",
      "    Resize(size=224, interpolation=bicubic, max_size=None, antialias=None)\n",
      "    CenterCrop(size=(224, 224))\n",
      "    <function _convert_to_rgb at 0x7f1ba518b290>\n",
      "    ToTensor()\n",
      "    Normalize(mean=(0.48145466, 0.4578275, 0.40821073), std=(0.26862954, 0.26130258, 0.27577711))\n",
      ")\n",
      "data loading...\n",
      "100%|████████████████████████████████| 10000/10000 [00:00<00:00, 2776949.15it/s]\n",
      "100%|████████████████████████████████| 10000/10000 [00:00<00:00, 3557811.52it/s]\n",
      "query text number: 10000\n",
      "key image number: 17611\n",
      "start loading text features\n",
      "100%|█████████████████████████████████████████████| 5/5 [01:26<00:00, 17.26s/it]\n",
      "start loading image features\n",
      "100%|███████████████████████████████████████████| 89/89 [30:55<00:00, 20.85s/it]\n",
      "similarity_argsort.shape (10000, 17611)\n"
     ]
    }
   ],
   "source": [
    "!export CUDA_VISIBLE_DEVICES=0; python src/infer/open_clip_infer_prompt.py --model_name ViT-bigG-14 --pt_path /data1/code/yyg/image_retrival/yyg/open_clip_G_real/open_clip-G/open_clip/logs/epoch_5.pt --image_root data/datasets/test/test_images/ --text_path data/datasets/test/test_person_text.txt --run_name open_clip_person_infer --text_steps 2000 --image_batch 200 --topk 10"
   ]
  },
  {
   "cell_type": "code",
   "execution_count": 2,
   "id": "b9b29eaf",
   "metadata": {},
   "outputs": [
    {
     "name": "stdout",
     "output_type": "stream",
     "text": [
      "model loading...\n",
      "Compose(\n",
      "    Lambda()\n",
      "    Resize(size=224, interpolation=bicubic, max_size=None, antialias=None)\n",
      "    CenterCrop(size=(224, 224))\n",
      "    <function _convert_to_rgb at 0x7f6c3f544290>\n",
      "    ToTensor()\n",
      "    Normalize(mean=(0.48145466, 0.4578275, 0.40821073), std=(0.26862954, 0.26130258, 0.27577711))\n",
      ")\n",
      "data loading...\n",
      "100%|██████████████████████████████████| 7611/7611 [00:00<00:00, 2658243.63it/s]\n",
      "100%|██████████████████████████████████| 7611/7611 [00:00<00:00, 4166929.61it/s]\n",
      "query text number: 7611\n",
      "key image number: 17611\n",
      "start loading text features\n",
      "100%|█████████████████████████████████████████████| 4/4 [01:05<00:00, 16.48s/it]\n",
      "start loading image features\n",
      "100%|███████████████████████████████████████████| 89/89 [30:15<00:00, 20.40s/it]\n",
      "similarity_argsort.shape (7611, 17611)\n"
     ]
    }
   ],
   "source": [
    "!export CUDA_VISIBLE_DEVICES=1; python src/infer/open_clip_infer_prompt.py --model_name ViT-bigG-14 --pt_path /data1/code/yyg/image_retrival/yyg/open_clip_G_real/open_clip-G/open_clip/logs/epoch_5.pt --image_root data/datasets/test/test_images/ --text_path data/datasets/test/test_car_text.txt --run_name open_clip_car_infer --text_steps 2000 --image_batch 200 --topk 10"
   ]
  },
  {
   "cell_type": "code",
   "execution_count": 3,
   "id": "85347550",
   "metadata": {},
   "outputs": [],
   "source": [
    "!python src/infer/merge_json.py"
   ]
  }
 ],
 "metadata": {
  "kernelspec": {
   "display_name": "Python 3 (ipykernel)",
   "language": "python",
   "name": "python3"
  },
  "language_info": {
   "codemirror_mode": {
    "name": "ipython",
    "version": 3
   },
   "file_extension": ".py",
   "mimetype": "text/x-python",
   "name": "python",
   "nbconvert_exporter": "python",
   "pygments_lexer": "ipython3",
   "version": "3.7.13"
  }
 },
 "nbformat": 4,
 "nbformat_minor": 5
}
